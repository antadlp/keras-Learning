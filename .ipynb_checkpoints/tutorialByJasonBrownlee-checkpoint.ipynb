{
 "cells": [
  {
   "cell_type": "markdown",
   "metadata": {},
   "source": [
    "## Develop Your First Neural Network in Python With Keras Step-By-Step"
   ]
  },
  {
   "cell_type": "markdown",
   "metadata": {},
   "source": [
    "from: http://machinelearningmastery.com/tutorial-first-neural-network-python-keras/ by Jason Brownlee"
   ]
  },
  {
   "cell_type": "code",
   "execution_count": 11,
   "metadata": {},
   "outputs": [],
   "source": [
    "from keras.models import Sequential\n",
    "from keras.layers import Dense\n",
    "import numpy\n",
    "# fix random seed for reproducibility\n",
    "numpy.random.seed(7)"
   ]
  },
  {
   "cell_type": "code",
   "execution_count": 12,
   "metadata": {},
   "outputs": [],
   "source": [
    "# load pima indians dataset\n",
    "dataset = numpy.loadtxt(\"../data/pima-indians-diabetes.csv\", delimiter=\",\")\n",
    "# split into input (X) and output (Y) variables\n",
    "X = dataset[:,0:8]\n",
    "Y = dataset[:,8]"
   ]
  },
  {
   "cell_type": "code",
   "execution_count": 44,
   "metadata": {
    "collapsed": true
   },
   "outputs": [],
   "source": [
    "# create model\n",
    "model = Sequential()\n",
    "model.add(Dense(12, input_dim=8, activation='relu'))\n",
    "model.add(Dense(8, activation='relu'))\n",
    "model.add(Dense(15, activation='relu'))\n",
    "model.add(Dense(15, activation='relu'))\n",
    "model.add(Dense(15, activation='relu'))\n",
    "model.add(Dense(15, activation='relu'))\n",
    "model.add(Dense(15, activation='relu'))\n",
    "model.add(Dense(15, activation='relu'))\n",
    "model.add(Dense(15, activation='relu'))\n",
    "model.add(Dense(15, activation='relu'))\n",
    "model.add(Dense(15, activation='relu'))\n",
    "model.add(Dense(15, activation='relu'))\n",
    "model.add(Dense(15, activation='relu'))\n",
    "model.add(Dense(15, activation='relu'))\n",
    "model.add(Dense(1, activation='sigmoid'))"
   ]
  },
  {
   "cell_type": "code",
   "execution_count": 45,
   "metadata": {
    "collapsed": true
   },
   "outputs": [],
   "source": [
    "# Compile model\n",
    "model.compile(loss='binary_crossentropy', optimizer='adam', metrics=['accuracy'])"
   ]
  },
  {
   "cell_type": "code",
   "execution_count": 46,
   "metadata": {},
   "outputs": [
    {
     "name": "stdout",
     "output_type": "stream",
     "text": [
      "Epoch 1/50\n",
      "768/768 [==============================] - 0s - loss: 0.6758 - acc: 0.5951     \n",
      "Epoch 2/50\n",
      "768/768 [==============================] - 0s - loss: 0.6459 - acc: 0.6510     \n",
      "Epoch 3/50\n",
      "768/768 [==============================] - 0s - loss: 0.6178 - acc: 0.6589     \n",
      "Epoch 4/50\n",
      "768/768 [==============================] - 0s - loss: 0.5928 - acc: 0.6875     \n",
      "Epoch 5/50\n",
      "768/768 [==============================] - 0s - loss: 0.5760 - acc: 0.7109     \n",
      "Epoch 6/50\n",
      "768/768 [==============================] - 0s - loss: 0.5642 - acc: 0.7227     \n",
      "Epoch 7/50\n",
      "768/768 [==============================] - 0s - loss: 0.5564 - acc: 0.7187     \n",
      "Epoch 8/50\n",
      "768/768 [==============================] - 0s - loss: 0.5411 - acc: 0.7227     \n",
      "Epoch 9/50\n",
      "768/768 [==============================] - 0s - loss: 0.5471 - acc: 0.7370     \n",
      "Epoch 10/50\n",
      "768/768 [==============================] - 0s - loss: 0.5342 - acc: 0.7253     \n",
      "Epoch 11/50\n",
      "768/768 [==============================] - 0s - loss: 0.5374 - acc: 0.7292     \n",
      "Epoch 12/50\n",
      "768/768 [==============================] - 0s - loss: 0.5357 - acc: 0.7370     \n",
      "Epoch 13/50\n",
      "768/768 [==============================] - 0s - loss: 0.5220 - acc: 0.7474     \n",
      "Epoch 14/50\n",
      "768/768 [==============================] - 0s - loss: 0.5373 - acc: 0.7305     \n",
      "Epoch 15/50\n",
      "768/768 [==============================] - 0s - loss: 0.5134 - acc: 0.7461     \n",
      "Epoch 16/50\n",
      "768/768 [==============================] - 0s - loss: 0.5101 - acc: 0.7578     \n",
      "Epoch 17/50\n",
      "768/768 [==============================] - 0s - loss: 0.5065 - acc: 0.7552     \n",
      "Epoch 18/50\n",
      "768/768 [==============================] - 0s - loss: 0.5315 - acc: 0.7318     \n",
      "Epoch 19/50\n",
      "768/768 [==============================] - 0s - loss: 0.5148 - acc: 0.7526     \n",
      "Epoch 20/50\n",
      "768/768 [==============================] - 0s - loss: 0.5098 - acc: 0.7500     \n",
      "Epoch 21/50\n",
      "768/768 [==============================] - 0s - loss: 0.5281 - acc: 0.7435     \n",
      "Epoch 22/50\n",
      "768/768 [==============================] - 0s - loss: 0.5050 - acc: 0.7630     \n",
      "Epoch 23/50\n",
      "768/768 [==============================] - 0s - loss: 0.5184 - acc: 0.7357     \n",
      "Epoch 24/50\n",
      "768/768 [==============================] - 0s - loss: 0.4988 - acc: 0.7565     \n",
      "Epoch 25/50\n",
      "768/768 [==============================] - 0s - loss: 0.4962 - acc: 0.7617     \n",
      "Epoch 26/50\n",
      "768/768 [==============================] - 0s - loss: 0.4899 - acc: 0.7552     \n",
      "Epoch 27/50\n",
      "768/768 [==============================] - 0s - loss: 0.5038 - acc: 0.7552     \n",
      "Epoch 28/50\n",
      "768/768 [==============================] - 0s - loss: 0.5001 - acc: 0.7669     \n",
      "Epoch 29/50\n",
      "768/768 [==============================] - 0s - loss: 0.4767 - acc: 0.7643     \n",
      "Epoch 30/50\n",
      "768/768 [==============================] - 0s - loss: 0.4763 - acc: 0.7747     \n",
      "Epoch 31/50\n",
      "768/768 [==============================] - 0s - loss: 0.4867 - acc: 0.7578     \n",
      "Epoch 32/50\n",
      "768/768 [==============================] - 0s - loss: 0.4913 - acc: 0.7474     - ETA: 0s - loss: 0.4703 - acc: 0.763\n",
      "Epoch 33/50\n",
      "768/768 [==============================] - 0s - loss: 0.4719 - acc: 0.7839     \n",
      "Epoch 34/50\n",
      "768/768 [==============================] - 0s - loss: 0.4784 - acc: 0.7565     \n",
      "Epoch 35/50\n",
      "768/768 [==============================] - 0s - loss: 0.4812 - acc: 0.7617     \n",
      "Epoch 36/50\n",
      "768/768 [==============================] - 0s - loss: 0.4712 - acc: 0.7734     \n",
      "Epoch 37/50\n",
      "768/768 [==============================] - 0s - loss: 0.4703 - acc: 0.7695     \n",
      "Epoch 38/50\n",
      "768/768 [==============================] - 0s - loss: 0.4730 - acc: 0.7591     \n",
      "Epoch 39/50\n",
      "768/768 [==============================] - 0s - loss: 0.4769 - acc: 0.7708     - ETA: 0s - loss: 0.4207 - acc: 0.81\n",
      "Epoch 40/50\n",
      "768/768 [==============================] - 0s - loss: 0.4686 - acc: 0.7669     \n",
      "Epoch 41/50\n",
      "768/768 [==============================] - 0s - loss: 0.4784 - acc: 0.7734     \n",
      "Epoch 42/50\n",
      "768/768 [==============================] - 0s - loss: 0.4791 - acc: 0.7617     \n",
      "Epoch 43/50\n",
      "768/768 [==============================] - 0s - loss: 0.4968 - acc: 0.7513     \n",
      "Epoch 44/50\n",
      "768/768 [==============================] - 0s - loss: 0.4779 - acc: 0.7695     \n",
      "Epoch 45/50\n",
      "768/768 [==============================] - 0s - loss: 0.4711 - acc: 0.7682     \n",
      "Epoch 46/50\n",
      "768/768 [==============================] - 0s - loss: 0.4767 - acc: 0.7630     \n",
      "Epoch 47/50\n",
      "768/768 [==============================] - 0s - loss: 0.4699 - acc: 0.7721     \n",
      "Epoch 48/50\n",
      "768/768 [==============================] - 0s - loss: 0.4657 - acc: 0.7695     \n",
      "Epoch 49/50\n",
      "768/768 [==============================] - 0s - loss: 0.4684 - acc: 0.7747     \n",
      "Epoch 50/50\n",
      "768/768 [==============================] - 0s - loss: 0.4841 - acc: 0.7604     \n"
     ]
    },
    {
     "data": {
      "text/plain": [
       "<keras.callbacks.History at 0x7f43b966bac8>"
      ]
     },
     "execution_count": 46,
     "metadata": {},
     "output_type": "execute_result"
    }
   ],
   "source": [
    "# Fit the model\n",
    "model.fit(X, Y, epochs=50, batch_size=10)"
   ]
  },
  {
   "cell_type": "code",
   "execution_count": 48,
   "metadata": {},
   "outputs": [
    {
     "name": "stdout",
     "output_type": "stream",
     "text": [
      " 32/768 [>.............................] - ETA: 0s\n",
      "acc: 75.39%\n"
     ]
    }
   ],
   "source": [
    "# evaluate the model\n",
    "scores = model.evaluate(X, Y)\n",
    "print(\"\\n%s: %.2f%%\" % (model.metrics_names[1], scores[1]*100))"
   ]
  },
  {
   "cell_type": "code",
   "execution_count": null,
   "metadata": {
    "collapsed": true
   },
   "outputs": [],
   "source": []
  },
  {
   "cell_type": "code",
   "execution_count": null,
   "metadata": {
    "collapsed": true
   },
   "outputs": [],
   "source": []
  }
 ],
 "metadata": {
  "kernelspec": {
   "display_name": "Python 3",
   "language": "python",
   "name": "python3"
  },
  "language_info": {
   "codemirror_mode": {
    "name": "ipython",
    "version": 3
   },
   "file_extension": ".py",
   "mimetype": "text/x-python",
   "name": "python",
   "nbconvert_exporter": "python",
   "pygments_lexer": "ipython3",
   "version": "3.5.3"
  }
 },
 "nbformat": 4,
 "nbformat_minor": 2
}
