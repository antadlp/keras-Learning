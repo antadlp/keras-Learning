{
 "cells": [
  {
   "cell_type": "markdown",
   "metadata": {},
   "source": [
    "# LSTM Neural Network for Time Series Prediction"
   ]
  },
  {
   "cell_type": "markdown",
   "metadata": {},
   "source": [
    "from: http://www.jakob-aungiers.com/articles/a/LSTM-Neural-Network-for-Time-Series-Prediction"
   ]
  },
  {
   "cell_type": "markdown",
   "metadata": {},
   "source": [
    "## 1. Plot the data to learn from"
   ]
  },
  {
   "cell_type": "markdown",
   "metadata": {},
   "source": [
    "The data is provided by Jakob to be downloaded from <a href=\"https://raw.githubusercontent.com/jaungiers/LSTM-Neural-Network-for-Time-Series-Prediction/master/sinwave.csv\"> here </a>, the graph should look like the one shown below:\n"
   ]
  },
  {
   "cell_type": "markdown",
   "metadata": {},
   "source": [
    "<img src=\"http://www.jakob-aungiers.com/img/article/lstm-neural-network-timeseries/sindata.png\">"
   ]
  },
  {
   "cell_type": "markdown",
   "metadata": {},
   "source": [
    "The code to load and plot is also provided: "
   ]
  },
  {
   "cell_type": "code",
   "execution_count": 2,
   "metadata": {
    "collapsed": true
   },
   "outputs": [],
   "source": [
    "import numpy as np\n",
    "\n",
    "def load_data(filename, seq_len, normalise_window):\n",
    "    f = open(filename, 'rb').read()\n",
    "    data = f.decode().split('\\n')\n",
    "\n",
    "    sequence_length = seq_len + 1\n",
    "    result = []\n",
    "    for index in range(len(data) - sequence_length):\n",
    "        result.append(data[index: index + sequence_length])\n",
    "\n",
    "    result = np.array(result)\n",
    "\n",
    "    row = round(0.9 * result.shape[0])\n",
    "    train = result[:int(row), :]\n",
    "    np.random.shuffle(train)\n",
    "    x_train = train[:, :-1]\n",
    "    y_train = train[:, -1]\n",
    "    x_test = result[int(row):, :-1]\n",
    "    y_test = result[int(row):, -1]\n",
    "\n",
    "    x_train = np.reshape(x_train, (x_train.shape[0], x_train.shape[1], 1))\n",
    "    x_test = np.reshape(x_test, (x_test.shape[0], x_test.shape[1], 1))  \n",
    "\n",
    "    return [x_train, y_train, x_test, y_test]"
   ]
  },
  {
   "cell_type": "markdown",
   "metadata": {},
   "source": [
    "### 1.1 Analysing the load and plot function:"
   ]
  },
  {
   "cell_type": "code",
   "execution_count": 3,
   "metadata": {
    "collapsed": true
   },
   "outputs": [],
   "source": [
    "path_data = 'sinwave.csv'\n",
    "\n",
    "\n",
    "f = open(path_data, 'rb').read()"
   ]
  },
  {
   "cell_type": "code",
   "execution_count": 4,
   "metadata": {},
   "outputs": [
    {
     "data": {
      "text/plain": [
       "bytes"
      ]
     },
     "execution_count": 4,
     "metadata": {},
     "output_type": "execute_result"
    }
   ],
   "source": [
    "type(f)"
   ]
  },
  {
   "cell_type": "code",
   "execution_count": null,
   "metadata": {},
   "outputs": [],
   "source": [
    "f"
   ]
  },
  {
   "cell_type": "markdown",
   "metadata": {},
   "source": [
    "<img src=\"imgs/f_info.jpeg\">"
   ]
  },
  {
   "cell_type": "markdown",
   "metadata": {},
   "source": [
    "#### 1.1.1 What does f.decode() ?"
   ]
  },
  {
   "cell_type": "markdown",
   "metadata": {},
   "source": [
    "##### 1.1.1.1 Example from: https://www.tutorialspoint.com/python/string_decode.htm"
   ]
  },
  {
   "cell_type": "code",
   "execution_count": 20,
   "metadata": {},
   "outputs": [
    {
     "ename": "LookupError",
     "evalue": "'base64' is not a text encoding; use codecs.encode() to handle arbitrary codecs",
     "output_type": "error",
     "traceback": [
      "\u001b[0;31m---------------------------------------------------------------------------\u001b[0m",
      "\u001b[0;31mLookupError\u001b[0m                               Traceback (most recent call last)",
      "\u001b[0;32m<ipython-input-20-8b2d918afdd0>\u001b[0m in \u001b[0;36m<module>\u001b[0;34m()\u001b[0m\n\u001b[1;32m      1\u001b[0m \u001b[0mStr\u001b[0m \u001b[0;34m=\u001b[0m \u001b[0;34m\"this is string example....wow!!!\"\u001b[0m\u001b[0;34m\u001b[0m\u001b[0m\n\u001b[0;32m----> 2\u001b[0;31m \u001b[0mStr\u001b[0m \u001b[0;34m=\u001b[0m \u001b[0mStr\u001b[0m\u001b[0;34m.\u001b[0m\u001b[0mencode\u001b[0m\u001b[0;34m(\u001b[0m\u001b[0;34m'base64'\u001b[0m\u001b[0;34m,\u001b[0m\u001b[0;34m'strict'\u001b[0m\u001b[0;34m)\u001b[0m\u001b[0;34m\u001b[0m\u001b[0m\n\u001b[0m\u001b[1;32m      3\u001b[0m \u001b[0;34m\u001b[0m\u001b[0m\n\u001b[1;32m      4\u001b[0m \u001b[0mprint\u001b[0m\u001b[0;34m(\u001b[0m\u001b[0;34m\"Encoded String: \"\u001b[0m \u001b[0;34m+\u001b[0m \u001b[0mStr\u001b[0m\u001b[0;34m)\u001b[0m\u001b[0;34m\u001b[0m\u001b[0m\n\u001b[1;32m      5\u001b[0m \u001b[0mprint\u001b[0m\u001b[0;34m(\u001b[0m\u001b[0;34m\"Decoded String: \"\u001b[0m \u001b[0;34m+\u001b[0m \u001b[0mStr\u001b[0m\u001b[0;34m.\u001b[0m\u001b[0mdecode\u001b[0m\u001b[0;34m(\u001b[0m\u001b[0;34m'base64'\u001b[0m\u001b[0;34m,\u001b[0m\u001b[0;34m'strict'\u001b[0m\u001b[0;34m)\u001b[0m\u001b[0;34m)\u001b[0m \u001b[0;31m#pendiente\u001b[0m\u001b[0;34m\u001b[0m\u001b[0m\n",
      "\u001b[0;31mLookupError\u001b[0m: 'base64' is not a text encoding; use codecs.encode() to handle arbitrary codecs"
     ]
    }
   ],
   "source": [
    "Str = \"this is string example....wow!!!\"\n",
    "Str = Str.encode('base64','strict')\n",
    "\n",
    "print(\"Encoded String: \" + Str)\n",
    "print(\"Decoded String: \" + Str.decode('base64','strict')) #pendiente"
   ]
  },
  {
   "cell_type": "markdown",
   "metadata": {},
   "source": [
    "### Return to: 1.1"
   ]
  },
  {
   "cell_type": "code",
   "execution_count": 17,
   "metadata": {
    "collapsed": true
   },
   "outputs": [],
   "source": [
    "path_data = 'sinwave.csv'\n",
    "\n",
    "f = open(path_data, 'rb').read()\n",
    "data = f.decode().split('\\n')\n"
   ]
  },
  {
   "cell_type": "code",
   "execution_count": 18,
   "metadata": {},
   "outputs": [
    {
     "data": {
      "text/plain": [
       "list"
      ]
     },
     "execution_count": 18,
     "metadata": {},
     "output_type": "execute_result"
    }
   ],
   "source": [
    "type(data)"
   ]
  },
  {
   "cell_type": "code",
   "execution_count": 19,
   "metadata": {
    "collapsed": true
   },
   "outputs": [],
   "source": [
    "seq_len = 50\n",
    "sequence_length = seq_len + 1\n"
   ]
  },
  {
   "cell_type": "code",
   "execution_count": 21,
   "metadata": {
    "collapsed": true
   },
   "outputs": [],
   "source": [
    "result = []\n",
    "for index in range(len(data) - sequence_length):\n",
    "    result.append(data[index: index + sequence_length])\n",
    "\n",
    "result = np.array(result)"
   ]
  },
  {
   "cell_type": "code",
   "execution_count": 30,
   "metadata": {},
   "outputs": [
    {
     "name": "stdout",
     "output_type": "stream",
     "text": [
      "71\n",
      "[ 1  2  3  4  5  6  7  8  9 10 11 12 13]\n",
      "[ 2  3  4  5  6  7  8  9 10 11 12 13 14]\n",
      "[ 3  4  5  6  7  8  9 10 11 12 13 14 15]\n",
      "[ 4  5  6  7  8  9 10 11 12 13 14 15 16]\n",
      "[ 5  6  7  8  9 10 11 12 13 14 15 16 17]\n",
      "[ 6  7  8  9 10 11 12 13 14 15 16 17 18]\n",
      "[ 7  8  9 10 11 12 13 14 15 16 17 18 19]\n",
      "[ 8  9 10 11 12 13 14 15 16 17 18 19 20]\n",
      "[ 9 10 11 12 13 14 15 16 17 18 19 20 21]\n",
      "[10 11 12 13 14 15 16 17 18 19 20 21 22]\n",
      "[11 12 13 14 15 16 17 18 19 20 21 22 23]\n",
      "[12 13 14 15 16 17 18 19 20 21 22 23 24]\n",
      "[13 14 15 16 17 18 19 20 21 22 23 24 25]\n",
      "[14 15 16 17 18 19 20 21 22 23 24 25 26]\n",
      "[15 16 17 18 19 20 21 22 23 24 25 26 27]\n",
      "[16 17 18 19 20 21 22 23 24 25 26 27 28]\n",
      "[17 18 19 20 21 22 23 24 25 26 27 28 29]\n",
      "[18 19 20 21 22 23 24 25 26 27 28 29 30]\n",
      "[19 20 21 22 23 24 25 26 27 28 29 30 31]\n",
      "[20 21 22 23 24 25 26 27 28 29 30 31 32]\n",
      "[21 22 23 24 25 26 27 28 29 30 31 32 33]\n",
      "[22 23 24 25 26 27 28 29 30 31 32 33 34]\n",
      "[23 24 25 26 27 28 29 30 31 32 33 34 35]\n",
      "[24 25 26 27 28 29 30 31 32 33 34 35 36]\n",
      "[25 26 27 28 29 30 31 32 33 34 35 36 37]\n",
      "[26 27 28 29 30 31 32 33 34 35 36 37 38]\n",
      "[27 28 29 30 31 32 33 34 35 36 37 38 39]\n",
      "[28 29 30 31 32 33 34 35 36 37 38 39 40]\n",
      "[29 30 31 32 33 34 35 36 37 38 39 40 41]\n",
      "[30 31 32 33 34 35 36 37 38 39 40 41 42]\n",
      "[31 32 33 34 35 36 37 38 39 40 41 42 43]\n",
      "[32 33 34 35 36 37 38 39 40 41 42 43 44]\n",
      "[33 34 35 36 37 38 39 40 41 42 43 44 45]\n",
      "[34 35 36 37 38 39 40 41 42 43 44 45 46]\n",
      "[35 36 37 38 39 40 41 42 43 44 45 46 47]\n",
      "[36 37 38 39 40 41 42 43 44 45 46 47 48]\n",
      "[37 38 39 40 41 42 43 44 45 46 47 48 49]\n",
      "[38 39 40 41 42 43 44 45 46 47 48 49 50]\n",
      "[39 40 41 42 43 44 45 46 47 48 49 50 51]\n",
      "[40 41 42 43 44 45 46 47 48 49 50 51 52]\n",
      "[41 42 43 44 45 46 47 48 49 50 51 52 53]\n",
      "[42 43 44 45 46 47 48 49 50 51 52 53 54]\n",
      "[43 44 45 46 47 48 49 50 51 52 53 54 55]\n",
      "[44 45 46 47 48 49 50 51 52 53 54 55 56]\n",
      "[45 46 47 48 49 50 51 52 53 54 55 56 57]\n",
      "[46 47 48 49 50 51 52 53 54 55 56 57 58]\n",
      "[47 48 49 50 51 52 53 54 55 56 57 58 59]\n",
      "[48 49 50 51 52 53 54 55 56 57 58 59 60]\n",
      "[49 50 51 52 53 54 55 56 57 58 59 60 61]\n",
      "[50 51 52 53 54 55 56 57 58 59 60 61 62]\n",
      "[51 52 53 54 55 56 57 58 59 60 61 62 63]\n",
      "[52 53 54 55 56 57 58 59 60 61 62 63 64]\n",
      "[53 54 55 56 57 58 59 60 61 62 63 64 65]\n",
      "[54 55 56 57 58 59 60 61 62 63 64 65 66]\n",
      "[55 56 57 58 59 60 61 62 63 64 65 66 67]\n",
      "[56 57 58 59 60 61 62 63 64 65 66 67 68]\n",
      "[57 58 59 60 61 62 63 64 65 66 67 68 69]\n",
      "[58 59 60 61 62 63 64 65 66 67 68 69 70]\n",
      "58\n"
     ]
    }
   ],
   "source": [
    "import numpy as np\n",
    "\n",
    "data = np.arange(1, 72)\n",
    "print(data.shape[0])\n",
    "seq_len = 12\n",
    "sequence_length = seq_len + 1\n",
    "\n",
    "result = []\n",
    "for index in range(len(data) - sequence_length):\n",
    "    _ = data[index:index + sequence_length]\n",
    "    result.append(_)\n",
    "    print(_)\n",
    "    \n",
    "print(len(result))\n",
    "    \n",
    "    \n",
    "\n"
   ]
  },
  {
   "cell_type": "code",
   "execution_count": 27,
   "metadata": {},
   "outputs": [
    {
     "data": {
      "text/plain": [
       "-13"
      ]
     },
     "execution_count": 27,
     "metadata": {},
     "output_type": "execute_result"
    }
   ],
   "source": [
    "58 - 71"
   ]
  },
  {
   "cell_type": "markdown",
   "metadata": {},
   "source": [
    "i'll do it like the tutorial, but in these cases, i would think that the data should be something like: [1, 2, 3, 4], [ 4, 5, 6, 7],  [8, 9, 10, 11].. and so on for a window of size=4 elements, (i need to read the theory behind lstm)"
   ]
  },
  {
   "cell_type": "code",
   "execution_count": 31,
   "metadata": {},
   "outputs": [
    {
     "name": "stdout",
     "output_type": "stream",
     "text": [
      "71\n",
      "[ 1  2  3  4  5  6  7  8  9 10 11 12]\n",
      "[13 14 15 16 17 18 19 20 21 22 23 24]\n",
      "[25 26 27 28 29 30 31 32 33 34 35 36]\n",
      "[37 38 39 40 41 42 43 44 45 46 47 48]\n",
      "[49 50 51 52 53 54 55 56 57 58 59 60]\n",
      "5\n"
     ]
    }
   ],
   "source": [
    "import numpy as np\n",
    "\n",
    "data = np.arange(1, 72)\n",
    "print(data.shape[0])\n",
    "seq_len = 12\n",
    "sequence_length = seq_len + 1\n",
    "\n",
    "size_window = 12\n",
    "index_arr = np.arange(0, len(data) - size_window, size_window)\n",
    "\n",
    "result = []\n",
    "for index in index_arr:\n",
    "    _ = data[index:(index + size_window)]\n",
    "    result.append(_)\n",
    "    print(_)\n",
    "    \n",
    "print(len(result))\n",
    "    \n"
   ]
  },
  {
   "cell_type": "code",
   "execution_count": 32,
   "metadata": {},
   "outputs": [
    {
     "name": "stdout",
     "output_type": "stream",
     "text": [
      "71\n",
      "[1 2 3 4]\n",
      "[5 6 7 8]\n",
      "[ 9 10 11 12]\n",
      "[13 14 15 16]\n",
      "[17 18 19 20]\n",
      "[21 22 23 24]\n",
      "[25 26 27 28]\n",
      "[29 30 31 32]\n",
      "[33 34 35 36]\n",
      "[37 38 39 40]\n",
      "[41 42 43 44]\n",
      "[45 46 47 48]\n",
      "[49 50 51 52]\n",
      "[53 54 55 56]\n",
      "[57 58 59 60]\n",
      "[61 62 63 64]\n",
      "[65 66 67 68]\n",
      "17\n"
     ]
    }
   ],
   "source": [
    "import numpy as np\n",
    "\n",
    "data = np.arange(1, 72)\n",
    "print(data.shape[0])\n",
    "seq_len = 12\n",
    "sequence_length = seq_len + 1\n",
    "\n",
    "size_window = 4\n",
    "index_arr = np.arange(0, len(data) - size_window, size_window)\n",
    "\n",
    "result = []\n",
    "for index in index_arr:\n",
    "    _ = data[index:(index + size_window)]\n",
    "    result.append(_)\n",
    "    print(_)\n",
    "    \n",
    "print(len(result))\n",
    "    \n"
   ]
  },
  {
   "cell_type": "code",
   "execution_count": null,
   "metadata": {
    "collapsed": true
   },
   "outputs": [],
   "source": []
  }
 ],
 "metadata": {
  "kernelspec": {
   "display_name": "Python 3",
   "language": "python",
   "name": "python3"
  },
  "language_info": {
   "codemirror_mode": {
    "name": "ipython",
    "version": 3
   },
   "file_extension": ".py",
   "mimetype": "text/x-python",
   "name": "python",
   "nbconvert_exporter": "python",
   "pygments_lexer": "ipython3",
   "version": "3.6.2"
  }
 },
 "nbformat": 4,
 "nbformat_minor": 2
}
